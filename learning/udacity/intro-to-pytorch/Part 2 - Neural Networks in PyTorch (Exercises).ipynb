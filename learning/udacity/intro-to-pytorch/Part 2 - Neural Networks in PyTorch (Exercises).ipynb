{
 "cells": [
  {
   "cell_type": "markdown",
   "metadata": {},
   "source": [
    "# Neural networks with PyTorch\n",
    "\n",
    "Deep learning networks tend to be massive with dozens or hundreds of layers, that's where the term \"deep\" comes from. You can build one of these deep networks using only weight matrices as we did in the previous notebook, but in general it's very cumbersome and difficult to implement. PyTorch has a nice module `nn` that provides a nice way to efficiently build large neural networks."
   ]
  },
  {
   "cell_type": "code",
   "execution_count": 38,
   "metadata": {},
   "outputs": [],
   "source": [
    "# Import necessary packages\n",
    "\n",
    "%matplotlib inline\n",
    "%config InlineBackend.figure_format = 'retina'\n",
    "\n",
    "import numpy as np\n",
    "import torch\n",
    "\n",
    "import helper\n",
    "\n",
    "import matplotlib.pyplot as plt"
   ]
  },
  {
   "cell_type": "markdown",
   "metadata": {},
   "source": [
    "\n",
    "Now we're going to build a larger network that can solve a (formerly) difficult problem, identifying text in an image. Here we'll use the MNIST dataset which consists of greyscale handwritten digits. Each image is 28x28 pixels, you can see a sample below\n",
    "\n",
    "<img src='assets/mnist.png'>\n",
    "\n",
    "Our goal is to build a neural network that can take one of these images and predict the digit in the image.\n",
    "\n",
    "First up, we need to get our dataset. This is provided through the `torchvision` package. The code below will download the MNIST dataset, then create training and test datasets for us. Don't worry too much about the details here, you'll learn more about this later."
   ]
  },
  {
   "cell_type": "code",
   "execution_count": 39,
   "metadata": {},
   "outputs": [],
   "source": [
    "# The MNIST datasets are hosted on yann.lecun.com that has moved under CloudFlare protection\n",
    "# Run this script to enable the datasets download\n",
    "# Reference: https://github.com/pytorch/vision/issues/1938\n",
    "\n",
    "from six.moves import urllib\n",
    "opener = urllib.request.build_opener()\n",
    "opener.addheaders = [('User-agent', 'Mozilla/5.0')]\n",
    "urllib.request.install_opener(opener)"
   ]
  },
  {
   "cell_type": "code",
   "execution_count": 40,
   "metadata": {},
   "outputs": [],
   "source": [
    "### Run this cell\n",
    "\n",
    "from torchvision import datasets, transforms\n",
    "\n",
    "# Define a transform to normalize the data\n",
    "transform = transforms.Compose([transforms.ToTensor(),\n",
    "                              transforms.Normalize((0.5,), (0.5,)),\n",
    "                              ])\n",
    "\n",
    "# Download and load the training data\n",
    "trainset = datasets.MNIST('~/.pytorch/MNIST_data/', download=True, train=True, transform=transform)\n",
    "trainloader = torch.utils.data.DataLoader(trainset, batch_size=64, shuffle=True)"
   ]
  },
  {
   "cell_type": "markdown",
   "metadata": {},
   "source": [
    "We have the training data loaded into `trainloader` and we make that an iterator with `iter(trainloader)`. Later, we'll use this to loop through the dataset for training, like\n",
    "\n",
    "```python\n",
    "for image, label in trainloader:\n",
    "    ## do things with images and labels\n",
    "```\n",
    "\n",
    "You'll notice I created the `trainloader` with a batch size of 64, and `shuffle=True`. The batch size is the number of images we get in one iteration from the data loader and pass through our network, often called a *batch*. And `shuffle=True` tells it to shuffle the dataset every time we start going through the data loader again. But here I'm just grabbing the first batch so we can check out the data. We can see below that `images` is just a tensor with size `(64, 1, 28, 28)`. So, 64 images per batch, 1 color channel, and 28x28 images."
   ]
  },
  {
   "cell_type": "code",
   "execution_count": 41,
   "metadata": {},
   "outputs": [
    {
     "name": "stdout",
     "output_type": "stream",
     "text": [
      "<class 'torch.Tensor'>\n",
      "torch.Size([64, 1, 28, 28])\n",
      "torch.Size([64])\n"
     ]
    }
   ],
   "source": [
    "dataiter = iter(trainloader)\n",
    "images, labels = dataiter.next()\n",
    "print(type(images))\n",
    "print(images.shape)\n",
    "print(labels.shape)"
   ]
  },
  {
   "cell_type": "markdown",
   "metadata": {},
   "source": [
    "This is what one of the images looks like. "
   ]
  },
  {
   "cell_type": "code",
   "execution_count": 42,
   "metadata": {},
   "outputs": [
    {
     "data": {
      "image/png": "[encoded data removed]",
      "text/plain": [
       "<Figure size 432x288 with 1 Axes>"
      ]
     },
     "metadata": {
      "image/png": {
       "height": 248,
       "width": 251
      },
      "needs_background": "light"
     },
     "output_type": "display_data"
    }
   ],
   "source": [
    "plt.imshow(images[1].numpy().squeeze(), cmap='Greys_r');"
   ]
  },
  {
   "cell_type": "markdown",
   "metadata": {},
   "source": [
    "First, let's try to build a simple network for this dataset using weight matrices and matrix multiplications. Then, we'll see how to do it using PyTorch's `nn` module which provides a much more convenient and powerful method for defining network architectures.\n",
    "\n",
    "The networks you've seen so far are called *fully-connected* or *dense* networks. Each unit in one layer is connected to each unit in the next layer. In fully-connected networks, the input to each layer must be a one-dimensional vector (which can be stacked into a 2D tensor as a batch of multiple examples). However, our images are 28x28 2D tensors, so we need to convert them into 1D vectors. Thinking about sizes, we need to convert the batch of images with shape `(64, 1, 28, 28)` to a have a shape of `(64, 784)`, 784 is 28 times 28. This is typically called *flattening*, we flattened the 2D images into 1D vectors.\n",
    "\n",
    "Previously you built a network with one output unit. Here we need 10 output units, one for each digit. We want our network to predict the digit shown in an image, so what we'll do is calculate probabilities that the image is of any one digit or class. This ends up being a discrete probability distribution over the classes (digits) that tells us the most likely class for the image. That means we need 10 output units for the 10 classes (digits). We'll see how to convert the network output into a probability distribution next.\n",
    "\n",
    "> **Exercise:** Flatten the batch of images `images`. Then build a multi-layer network with 784 input units, 256 hidden units, and 10 output units using random tensors for the weights and biases. For now, use a sigmoid activation for the hidden layer. Leave the output layer without an activation, we'll add one that gives us a probability distribution next."
   ]
  },
  {
   "cell_type": "code",
   "execution_count": 64,
   "metadata": {},
   "outputs": [
    {
     "name": "stdout",
     "output_type": "stream",
     "text": [
      "tensor([[ 1.1118e+01, -7.0913e-01,  7.0564e+00,  8.6309e+00, -4.8359e+00,\n",
      "         -2.9632e+00,  8.4665e+00, -5.8857e-01, -4.5083e+00, -4.1312e+00],\n",
      "        [ 5.6533e+00, -4.7065e+00,  9.8618e+00,  9.8391e+00, -1.9257e+00,\n",
      "         -1.0263e+01, -3.1337e+00,  6.8492e+00, -6.0074e+00, -6.8907e+00],\n",
      "        [ 1.0408e+01, -3.6764e+00,  1.1374e+01,  8.0952e+00,  3.0403e+00,\n",
      "         -4.3160e+00, -1.2449e+01,  1.1163e+01, -3.5140e+00, -7.5725e+00],\n",
      "        [ 1.1994e+01, -1.2361e+00,  1.2975e+01,  1.0865e+01,  1.6781e+00,\n",
      "          1.2668e+00, -5.2376e+00,  8.0446e+00, -6.3392e+00,  3.4183e+00],\n",
      "        [ 1.3139e+01,  3.3582e+00, -1.5690e+00,  1.3224e+01, -5.0000e+00,\n",
      "         -1.9380e+01,  2.1414e+00,  9.0729e+00,  3.6376e+00,  5.4915e+00],\n",
      "        [ 1.8388e+01, -2.9298e+00, -8.1626e+00,  1.0964e+01,  4.9717e-01,\n",
      "         -1.1159e+01, -4.6632e+00,  1.3735e+00,  4.4540e+00, -9.1412e+00],\n",
      "        [ 3.5250e+00,  2.9871e+00,  5.6138e+00,  1.1578e+01,  1.5653e+00,\n",
      "          3.4488e+00,  1.1481e+01, -1.8895e+00,  1.2798e+01,  1.4669e+01],\n",
      "        [ 5.4719e+00,  5.3673e-01,  7.1440e+00,  8.4488e+00, -4.2611e+00,\n",
      "         -3.2915e+00, -1.5555e+00,  9.4698e+00,  5.5547e+00,  6.9773e+00],\n",
      "        [ 9.2779e+00, -8.5328e+00,  7.6882e+00,  1.1595e+01, -1.9166e+00,\n",
      "         -5.8995e+00, -3.6608e-01,  2.4268e+00, -1.9557e+00,  2.4034e+00],\n",
      "        [ 4.2220e+00,  2.0170e-01,  4.6599e+00,  1.1217e+01,  2.4541e+00,\n",
      "         -6.1289e+00,  5.9361e+00,  3.0344e+00,  2.6718e+00, -6.8349e-01],\n",
      "        [ 1.3111e+01,  1.6626e+00,  1.8532e+00,  6.9426e+00, -8.8321e-01,\n",
      "         -1.1062e+01,  2.4645e+00, -4.0958e+00,  1.4299e+00,  8.3047e+00],\n",
      "        [ 8.0783e+00, -2.5048e+00, -1.9532e+00,  1.4471e+01, -8.8425e+00,\n",
      "         -5.7102e+00,  5.9459e+00,  8.8909e+00, -3.5008e+00, -1.4684e+01],\n",
      "        [ 1.2147e+01, -7.8119e+00,  1.4488e+01,  1.6612e+01,  1.0589e+00,\n",
      "         -4.3561e+00, -3.6050e+00,  1.1122e+00,  4.4754e+00,  5.0016e+00],\n",
      "        [ 7.2391e+00,  2.3073e+00,  7.6879e+00,  7.5545e+00,  6.2389e+00,\n",
      "         -3.3146e+00, -7.0353e+00,  8.9018e+00,  1.3302e+00,  3.7199e+00],\n",
      "        [ 1.3352e+01, -3.4007e+00,  5.3288e+00,  1.2093e+01, -9.7417e-01,\n",
      "         -1.0027e+01,  1.0380e+01,  1.1201e+01, -6.3768e-01, -4.8922e+00],\n",
      "        [ 8.9614e+00,  3.5359e+00,  4.9076e+00,  1.7556e+01, -7.6068e-01,\n",
      "         -6.8523e+00, -6.3309e+00,  6.3364e+00,  6.6230e-04,  7.4504e+00],\n",
      "        [ 1.5572e+01, -2.6096e+00,  1.1812e+00,  5.7018e+00, -3.6157e+00,\n",
      "         -1.5428e+00,  1.6262e+00, -1.5943e+01,  5.9151e-02, -5.1053e+00],\n",
      "        [ 1.0476e+01, -1.1958e+00,  4.2562e+00,  1.1249e+01,  1.2049e+00,\n",
      "         -3.4035e+00,  4.8053e+00, -3.1431e+00, -2.4843e-01,  8.4684e+00],\n",
      "        [ 4.0497e+00, -3.7908e+00, -1.4383e+00,  4.4164e+00,  1.4555e+00,\n",
      "         -6.7126e+00,  4.2242e+00, -4.2936e+00,  1.4966e+01,  5.3608e+00],\n",
      "        [ 9.5558e+00, -2.7390e+00,  1.5786e+01,  4.6658e+00, -8.6714e-01,\n",
      "         -1.7647e+00, -4.6202e+00,  1.6036e+01, -6.3225e+00,  4.5726e+00],\n",
      "        [ 1.7479e+01, -6.1417e-01,  3.5624e+00,  1.0169e+01,  2.0300e+00,\n",
      "         -1.2819e+01,  5.9580e+00,  7.6007e-01,  5.0090e+00,  8.4276e+00],\n",
      "        [ 1.3754e+01, -2.9201e+00,  1.4500e+00,  1.4119e+01,  2.3468e+00,\n",
      "         -1.6753e+01,  3.8577e+00,  1.2842e+01,  4.7264e+00,  1.5536e+00],\n",
      "        [ 1.5025e+01, -4.2896e+00,  1.3373e+01,  1.1016e+01, -6.0300e+00,\n",
      "         -7.5068e+00,  2.8887e+00,  2.0362e+00,  1.2932e+00,  1.1497e-01],\n",
      "        [-4.2811e+00, -2.4522e+00, -6.1284e+00,  8.1083e+00, -3.0964e-01,\n",
      "          2.8715e+00,  3.2377e+00,  8.8356e+00,  7.4455e+00,  3.5675e+00],\n",
      "        [ 5.8533e+00,  3.8071e+00,  6.7860e+00,  1.4327e+01, -5.3141e-02,\n",
      "         -5.2340e+00,  1.6800e-01, -8.1608e+00, -1.3680e+00, -7.3816e-01],\n",
      "        [ 6.2600e+00, -2.3038e-01,  3.7727e+00,  1.1385e+01, -8.7131e+00,\n",
      "         -6.9114e+00, -9.7911e-01,  2.0070e+00, -3.6407e+00,  2.0165e+00],\n",
      "        [ 7.8514e+00,  1.1599e+00,  1.3910e+01,  5.2541e+00,  8.0333e+00,\n",
      "         -9.2859e+00, -4.4763e+00,  8.4016e-01,  4.6020e+00,  3.1177e+00],\n",
      "        [ 2.7617e+00,  2.2261e+00,  7.4275e+00,  5.7815e+00,  1.2701e+00,\n",
      "         -4.9997e+00,  4.4997e+00, -1.9474e+00,  1.9897e+00, -4.4431e-01],\n",
      "        [ 1.6572e+01, -5.8209e+00,  1.4828e+01,  1.4361e+01, -2.9578e+00,\n",
      "          4.3439e-01, -4.6023e+00,  2.5670e+00, -3.0525e-01,  3.0331e+00],\n",
      "        [ 7.8950e+00, -6.8417e-02,  5.6274e+00,  9.1080e+00, -3.7090e+00,\n",
      "         -3.0232e+00, -1.0788e+01, -6.4910e-01, -2.4223e+00,  3.6717e+00],\n",
      "        [ 7.5405e+00,  2.2996e+00,  5.5439e+00,  1.4944e+01,  7.1979e-01,\n",
      "         -3.8745e+00, -1.1718e+00, -1.1678e+01,  3.8060e+00,  1.5408e+00],\n",
      "        [ 3.3625e+00,  6.7952e+00,  9.9400e+00,  1.3199e+01, -2.5521e+00,\n",
      "         -2.4522e+00,  7.2088e+00, -8.3256e+00, -5.5401e+00,  3.1057e+00],\n",
      "        [ 3.1559e+00, -7.6973e-01,  9.4622e+00,  1.4662e+01,  2.0663e+00,\n",
      "         -3.7740e+00,  1.3323e+00, -2.9907e+00,  3.1155e+00,  8.3435e-01],\n",
      "        [ 9.4465e+00, -6.4349e+00,  5.9917e+00,  2.5952e+00,  4.2870e+00,\n",
      "         -5.0376e+00,  3.7032e+00,  2.5075e+00,  3.8502e+00,  9.4551e+00],\n",
      "        [ 1.2636e+01, -1.5878e+00,  7.8603e+00,  3.4891e-01,  5.2941e+00,\n",
      "         -8.0494e+00,  7.0339e+00,  2.6536e+00,  2.8605e+00,  8.1641e+00],\n",
      "        [ 1.0472e+01, -6.7970e+00,  1.3887e+01,  8.5710e+00, -6.3103e+00,\n",
      "         -5.0318e+00, -9.2388e-01,  1.8272e+00, -5.8104e+00,  9.3292e+00],\n",
      "        [ 1.2405e+01,  6.8601e+00,  1.2931e+01,  1.0200e+01, -1.3016e+00,\n",
      "         -2.6519e+00, -3.3935e+00, -1.4436e+00,  3.8284e+00, -3.6900e-01],\n",
      "        [ 1.9457e+01, -2.8405e+00,  7.8441e+00,  1.3600e+01, -5.8217e+00,\n",
      "          1.6459e+00, -6.7307e+00,  8.7080e-01, -1.2002e+01, -1.2301e+00],\n",
      "        [ 7.6328e+00, -1.2500e+00,  8.5072e+00,  7.9417e+00, -3.7454e+00,\n",
      "         -6.5976e+00,  4.3950e-01,  6.3345e+00,  3.9127e-01,  7.5193e+00],\n",
      "        [ 9.6625e+00, -9.5849e-01,  1.1156e+01,  8.2780e+00, -3.5945e+00,\n",
      "          7.7415e+00, -4.0217e+00, -1.4842e+00, -1.0502e+00, -2.6497e+00],\n",
      "        [ 1.2563e+01, -7.9166e-02,  1.0040e+01,  1.2235e+01, -7.1081e+00,\n",
      "         -2.0519e+01,  6.6578e+00, -2.5950e+00, -1.7844e+00, -4.3703e+00],\n",
      "        [ 1.2707e+01,  1.9294e+00,  1.1722e+01,  1.1905e+01,  2.2423e+00,\n",
      "         -1.1328e+01, -3.8399e+00,  7.4025e+00,  9.0060e+00,  5.2070e-01],\n",
      "        [ 1.2664e+01, -9.9103e-01, -5.5780e-01,  8.2737e+00, -1.0268e+00,\n",
      "         -1.2469e+01,  3.1591e+00, -3.3661e+00,  8.4421e+00, -2.3464e+00],\n",
      "        [ 1.3288e+01,  1.7722e+00,  6.8688e+00,  6.9366e+00,  1.2338e+01,\n",
      "         -9.1386e+00,  1.1913e+00, -7.7209e+00,  7.9964e+00,  8.7415e+00],\n",
      "        [ 5.7301e+00, -8.2489e-01,  9.6846e+00,  1.2361e+01, -4.0241e+00,\n",
      "          1.2272e+00, -3.6796e+00,  4.9970e-01,  1.5187e+00, -7.7782e+00],\n",
      "        [ 1.2058e+01, -3.0313e+00,  6.9631e+00,  7.0646e+00,  2.1391e+00,\n",
      "         -9.8706e+00,  7.8952e+00,  3.2192e+00,  7.3835e+00,  3.4059e+00],\n",
      "        [ 4.7893e+00, -3.1651e+00,  1.4504e+00,  6.4827e+00, -1.2534e+00,\n",
      "         -3.8910e+00,  8.4643e-01, -9.1024e-01, -5.6533e+00,  4.0312e+00],\n",
      "        [ 1.0558e+01, -1.7126e+00,  1.2067e+01,  7.6247e+00,  8.5714e-01,\n",
      "         -9.7301e+00,  4.9702e+00,  6.5399e+00,  7.4340e+00,  4.3816e+00],\n",
      "        [ 1.3073e+01,  1.2071e+00,  1.1035e+01,  5.1556e+00,  6.3620e+00,\n",
      "         -6.5767e+00, -4.7737e-01,  3.6290e+00, -1.2087e+00,  9.6488e+00],\n",
      "        [ 1.9350e+00, -7.0583e+00,  1.2976e+01,  7.4599e+00,  1.8423e+01,\n",
      "         -1.1405e+00,  7.6627e+00, -1.1778e+00, -3.8587e+00, -3.0088e+00],\n",
      "        [ 8.6870e+00,  6.9928e+00,  2.3927e+00,  9.9660e+00, -8.4695e-01,\n",
      "         -8.7206e+00,  6.4221e+00, -2.0445e+00,  9.4508e+00,  4.4317e+00],\n",
      "        [ 1.1109e+01,  4.8481e-01,  1.8014e+01,  1.3235e+01, -1.2072e+00,\n",
      "         -8.2726e-01, -2.0898e+00,  5.5676e+00,  4.6596e+00, -3.5322e+00],\n",
      "        [ 1.6983e+01, -3.8605e+00,  7.0552e+00,  1.6370e+01, -1.3262e+00,\n",
      "         -1.3653e+01, -4.3845e+00, -3.8227e+00,  3.3234e+00,  6.7287e+00],\n",
      "        [ 2.8444e+00,  2.6821e+00,  1.5073e+00,  1.2130e-01,  7.3616e-01,\n",
      "         -4.4359e+00,  2.0582e+00,  1.6173e+00,  1.5787e+00,  5.5028e+00],\n",
      "        [ 1.2467e+01,  2.9038e+00,  3.4737e+00,  7.5907e+00, -1.0976e+00,\n",
      "         -1.1019e+01, -2.0342e-01, -2.2914e-01,  2.7389e+00,  7.6820e+00],\n",
      "        [ 1.2059e+01,  4.8349e+00,  7.6263e+00,  5.1072e+00,  1.5908e+00,\n",
      "         -2.5489e+00, -3.0370e+00, -1.2382e+00,  4.9156e-01,  2.5258e+00],\n",
      "        [ 2.5421e+00, -1.5513e+00,  5.6156e+00,  1.3788e+01,  7.3680e-01,\n",
      "         -1.0242e+01,  1.4875e+01, -6.1929e+00,  2.1172e-01, -2.8848e+00],\n",
      "        [ 9.3040e+00, -9.6189e-01,  8.3169e+00,  6.8746e+00,  6.6054e+00,\n",
      "         -8.4020e+00, -2.2578e-01, -3.8070e+00, -3.1524e+00,  9.5647e+00],\n",
      "        [ 3.5665e+00, -6.3947e-01,  7.0959e+00,  6.9909e+00, -3.7319e+00,\n",
      "         -1.1434e+01,  8.4502e+00,  1.3793e+00, -5.5414e+00, -3.1011e+00],\n",
      "        [ 8.8899e+00, -2.0171e-01,  7.3411e+00,  1.1512e+01, -7.1705e-01,\n",
      "         -4.0036e+00, -2.8825e+00, -1.4621e+00, -5.4171e+00, -7.4142e+00],\n",
      "        [-9.3984e-01, -6.0480e+00,  3.7060e+00,  1.5699e+01,  1.4862e-02,\n",
      "         -1.0774e+01,  6.0418e+00,  4.5389e+00,  5.0069e+00,  8.1856e-01],\n",
      "        [ 1.4938e+01, -3.1155e+00,  5.6496e+00,  8.9347e+00, -1.1959e+01,\n",
      "         -1.5884e+01, -9.0800e+00,  2.4034e+00,  4.5176e+00,  1.4732e+01],\n",
      "        [ 9.6760e+00, -1.0576e+01,  4.7057e+00,  1.1026e+01,  6.9752e-01,\n",
      "         -9.7976e-01,  1.3068e+01,  5.5926e+00,  3.9806e-02,  7.2401e-01],\n",
      "        [ 1.2849e+01,  1.7819e+00,  1.2821e+01,  9.5052e+00, -5.5012e-01,\n",
      "         -1.9404e+00,  3.6740e+00,  8.9726e-01, -6.6363e-01,  8.7299e-01]])\n"
     ]
    },
    {
     "data": {
      "text/plain": [
       "torch.Size([64, 10])"
      ]
     },
     "execution_count": 64,
     "metadata": {},
     "output_type": "execute_result"
    }
   ],
   "source": [
    "## Your solution\n",
    "def activation(x):\n",
    "    \"\"\" Sigmoid activation function \n",
    "    \n",
    "        Arguments\n",
    "        ---------\n",
    "        x: torch.Tensor\n",
    "    \"\"\"\n",
    "    return 1/(1+torch.exp(-x))\n",
    "\n",
    "inputs = images.view(64, -1)\n",
    "\n",
    "n_input = inputs.shape[1]     # Number of input units, must match number of input features\n",
    "n_hidden = 256                    # Number of hidden units \n",
    "n_output = 10                    # Number of output units\n",
    "\n",
    "# Weights for inputs to hidden layer\n",
    "W1 = torch.randn(n_input, n_hidden)\n",
    "# Weights for hidden layer to output layer\n",
    "W2 = torch.randn(n_hidden, n_output)\n",
    "\n",
    "# and bias terms for hidden and output layers\n",
    "B1 = torch.randn(n_hidden)\n",
    "B2 = torch.randn(n_output)\n",
    "\n",
    "h = activation(torch.mm(inputs, W1) + B1)\n",
    "out = torch.mm(h, W2) + B2\n",
    "\n",
    "print(out)\n",
    "out.shape"
   ]
  },
  {
   "cell_type": "markdown",
   "metadata": {},
   "source": [
    "Now we have 10 outputs for our network. We want to pass in an image to our network and get out a probability distribution over the classes that tells us the likely class(es) the image belongs to. Something that looks like this:\n",
    "<img src='assets/image_distribution.png' width=500px>\n",
    "\n",
    "Here we see that the probability for each class is roughly the same. This is representing an untrained network, it hasn't seen any data yet so it just returns a uniform distribution with equal probabilities for each class.\n",
    "\n",
    "To calculate this probability distribution, we often use the [**softmax** function](https://en.wikipedia.org/wiki/Softmax_function). Mathematically this looks like\n",
    "\n",
    "$$\n",
    "\\Large \\sigma(x_i) = \\cfrac{e^{x_i}}{\\sum_k^K{e^{x_k}}}\n",
    "$$\n",
    "\n",
    "What this does is squish each input $x_i$ between 0 and 1 and normalizes the values to give you a proper probability distribution where the probabilites sum up to one.\n",
    "\n",
    "> **Exercise:** Implement a function `softmax` that performs the softmax calculation and returns probability distributions for each example in the batch. Note that you'll need to pay attention to the shapes when doing this. If you have a tensor `a` with shape `(64, 10)` and a tensor `b` with shape `(64,)`, doing `a/b` will give you an error because PyTorch will try to do the division across the columns (called broadcasting) but you'll get a size mismatch. The way to think about this is for each of the 64 examples, you only want to divide by one value, the sum in the denominator. So you need `b` to have a shape of `(64, 1)`. This way PyTorch will divide the 10 values in each row of `a` by the one value in each row of `b`. Pay attention to how you take the sum as well. You'll need to define the `dim` keyword in `torch.sum`. Setting `dim=0` takes the sum across the rows while `dim=1` takes the sum across the columns."
   ]
  },
  {
   "cell_type": "code",
   "execution_count": 66,
   "metadata": {},
   "outputs": [
    {
     "name": "stdout",
     "output_type": "stream",
     "text": [
      "torch.Size([64, 10])\n",
      "tensor([1.0000, 1.0000, 1.0000, 1.0000, 1.0000, 1.0000, 1.0000, 1.0000, 1.0000,\n",
      "        1.0000, 1.0000, 1.0000, 1.0000, 1.0000, 1.0000, 1.0000, 1.0000, 1.0000,\n",
      "        1.0000, 1.0000, 1.0000, 1.0000, 1.0000, 1.0000, 1.0000, 1.0000, 1.0000,\n",
      "        1.0000, 1.0000, 1.0000, 1.0000, 1.0000, 1.0000, 1.0000, 1.0000, 1.0000,\n",
      "        1.0000, 1.0000, 1.0000, 1.0000, 1.0000, 1.0000, 1.0000, 1.0000, 1.0000,\n",
      "        1.0000, 1.0000, 1.0000, 1.0000, 1.0000, 1.0000, 1.0000, 1.0000, 1.0000,\n",
      "        1.0000, 1.0000, 1.0000, 1.0000, 1.0000, 1.0000, 1.0000, 1.0000, 1.0000,\n",
      "        1.0000])\n"
     ]
    }
   ],
   "source": [
    "def softmax(x):\n",
    "    sum = torch.sum(torch.exp(x), dim=1).view(-1, 1)\n",
    "    return (torch.exp(x))/sum\n",
    "# Here, out should be the output of the network in the previous excercise with shape (64,10)\n",
    "probabilities = softmax(out)\n",
    "\n",
    "# Does it have the right shape? Should be (64, 10)\n",
    "print(probabilities.shape)\n",
    "# Does it sum to 1?\n",
    "print(probabilities.sum(dim=1))"
   ]
  },
  {
   "cell_type": "markdown",
   "metadata": {},
   "source": [
    "## Building networks with PyTorch\n",
    "\n",
    "PyTorch provides a module `nn` that makes building networks much simpler. Here I'll show you how to build the same one as above with 784 inputs, 256 hidden units, 10 output units and a softmax output."
   ]
  },
  {
   "cell_type": "code",
   "execution_count": 68,
   "metadata": {},
   "outputs": [],
   "source": [
    "from torch import nn"
   ]
  },
  {
   "cell_type": "code",
   "execution_count": 69,
   "metadata": {},
   "outputs": [],
   "source": [
    "class Network(nn.Module):\n",
    "    def __init__(self):\n",
    "        super().__init__()\n",
    "        \n",
    "        # Inputs to hidden layer linear transformation\n",
    "        self.hidden = nn.Linear(784, 256)\n",
    "        # Output layer, 10 units - one for each digit\n",
    "        self.output = nn.Linear(256, 10)\n",
    "        \n",
    "        # Define sigmoid activation and softmax output \n",
    "        self.sigmoid = nn.Sigmoid()\n",
    "        self.softmax = nn.Softmax(dim=1)\n",
    "        \n",
    "    def forward(self, x):\n",
    "        # Pass the input tensor through each of our operations\n",
    "        x = self.hidden(x)\n",
    "        x = self.sigmoid(x)\n",
    "        x = self.output(x)\n",
    "        x = self.softmax(x)\n",
    "        \n",
    "        return x"
   ]
  },
  {
   "cell_type": "markdown",
   "metadata": {},
   "source": [
    "Let's go through this bit by bit.\n",
    "\n",
    "```python\n",
    "class Network(nn.Module):\n",
    "```\n",
    "\n",
    "Here we're inheriting from `nn.Module`. Combined with `super().__init__()` this creates a class that tracks the architecture and provides a lot of useful methods and attributes. It is mandatory to inherit from `nn.Module` when you're creating a class for your network. The name of the class itself can be anything.\n",
    "\n",
    "```python\n",
    "self.hidden = nn.Linear(784, 256)\n",
    "```\n",
    "\n",
    "This line creates a module for a linear transformation, $x\\mathbf{W} + b$, with 784 inputs and 256 outputs and assigns it to `self.hidden`. The module automatically creates the weight and bias tensors which we'll use in the `forward` method. You can access the weight and bias tensors once the network (`net`) is created with `net.hidden.weight` and `net.hidden.bias`.\n",
    "\n",
    "```python\n",
    "self.output = nn.Linear(256, 10)\n",
    "```\n",
    "\n",
    "Similarly, this creates another linear transformation with 256 inputs and 10 outputs.\n",
    "\n",
    "```python\n",
    "self.sigmoid = nn.Sigmoid()\n",
    "self.softmax = nn.Softmax(dim=1)\n",
    "```\n",
    "\n",
    "Here I defined operations for the sigmoid activation and softmax output. Setting `dim=1` in `nn.Softmax(dim=1)` calculates softmax across the columns.\n",
    "\n",
    "```python\n",
    "def forward(self, x):\n",
    "```\n",
    "\n",
    "PyTorch networks created with `nn.Module` must have a `forward` method defined. It takes in a tensor `x` and passes it through the operations you defined in the `__init__` method.\n",
    "\n",
    "```python\n",
    "x = self.hidden(x)\n",
    "x = self.sigmoid(x)\n",
    "x = self.output(x)\n",
    "x = self.softmax(x)\n",
    "```\n",
    "\n",
    "Here the input tensor `x` is passed through each operation and reassigned to `x`. We can see that the input tensor goes through the hidden layer, then a sigmoid function, then the output layer, and finally the softmax function. It doesn't matter what you name the variables here, as long as the inputs and outputs of the operations match the network architecture you want to build. The order in which you define things in the `__init__` method doesn't matter, but you'll need to sequence the operations correctly in the `forward` method.\n",
    "\n",
    "Now we can create a `Network` object."
   ]
  },
  {
   "cell_type": "code",
   "execution_count": 70,
   "metadata": {},
   "outputs": [
    {
     "data": {
      "text/plain": [
       "Network(\n",
       "  (hidden): Linear(in_features=784, out_features=256, bias=True)\n",
       "  (output): Linear(in_features=256, out_features=10, bias=True)\n",
       "  (sigmoid): Sigmoid()\n",
       "  (softmax): Softmax(dim=1)\n",
       ")"
      ]
     },
     "execution_count": 70,
     "metadata": {},
     "output_type": "execute_result"
    }
   ],
   "source": [
    "# Create the network and look at it's text representation\n",
    "model = Network()\n",
    "model"
   ]
  },
  {
   "cell_type": "markdown",
   "metadata": {},
   "source": [
    "You can define the network somewhat more concisely and clearly using the `torch.nn.functional` module. This is the most common way you'll see networks defined as many operations are simple element-wise functions. We normally import this module as `F`, `import torch.nn.functional as F`."
   ]
  },
  {
   "cell_type": "code",
   "execution_count": 77,
   "metadata": {},
   "outputs": [
    {
     "ename": "AttributeError",
     "evalue": "type object 'Network' has no attribute 'hidden'",
     "output_type": "error",
     "traceback": [
      "\u001b[0;31m---------------------------------------------------------------------------\u001b[0m",
      "\u001b[0;31mAttributeError\u001b[0m                            Traceback (most recent call last)",
      "\u001b[0;32m/tmp/ipykernel_447/1325796025.py\u001b[0m in \u001b[0;36m<module>\u001b[0;34m\u001b[0m\n\u001b[1;32m     17\u001b[0m         \u001b[0;32mreturn\u001b[0m \u001b[0mx\u001b[0m\u001b[0;34m\u001b[0m\u001b[0;34m\u001b[0m\u001b[0m\n\u001b[1;32m     18\u001b[0m \u001b[0;34m\u001b[0m\u001b[0m\n\u001b[0;32m---> 19\u001b[0;31m \u001b[0mprint\u001b[0m\u001b[0;34m(\u001b[0m\u001b[0mNetwork\u001b[0m\u001b[0;34m.\u001b[0m\u001b[0mhidden\u001b[0m\u001b[0;34m.\u001b[0m\u001b[0mweight\u001b[0m\u001b[0;34m)\u001b[0m\u001b[0;34m\u001b[0m\u001b[0;34m\u001b[0m\u001b[0m\n\u001b[0m",
      "\u001b[0;31mAttributeError\u001b[0m: type object 'Network' has no attribute 'hidden'"
     ]
    }
   ],
   "source": [
    "import torch.nn.functional as F\n",
    "\n",
    "class Network(nn.Module):\n",
    "    def __init__(self):\n",
    "        super().__init__()\n",
    "        # Inputs to hidden layer linear transformation\n",
    "        self.hidden = nn.Linear(784, 256)\n",
    "        # Output layer, 10 units - one for each digit\n",
    "        self.output = nn.Linear(256, 10)\n",
    "        \n",
    "    def forward(self, x):\n",
    "        # Hidden layer with sigmoid activation\n",
    "        x = F.sigmoid(self.hidden(x))\n",
    "        # Output layer with softmax activation\n",
    "        x = F.softmax(self.output(x), dim=1)\n",
    "        \n",
    "        return x"
   ]
  },
  {
   "cell_type": "markdown",
   "metadata": {},
   "source": [
    "### Activation functions\n",
    "\n",
    "So far we've only been looking at the sigmoid activation function, but in general any function can be used as an activation function. The only requirement is that for a network to approximate a non-linear function, the activation functions must be non-linear. Here are a few more examples of common activation functions: Tanh (hyperbolic tangent), and ReLU (rectified linear unit).\n",
    "\n",
    "<img src=\"assets/activation.png\" width=700px>\n",
    "\n",
    "In practice, the ReLU function is used almost exclusively as the activation function for hidden layers."
   ]
  },
  {
   "cell_type": "markdown",
   "metadata": {},
   "source": [
    "### Your Turn to Build a Network\n",
    "\n",
    "<img src=\"assets/mlp_mnist.png\" width=600px>\n",
    "\n",
    "> **Exercise:** Create a network with 784 input units, a hidden layer with 128 units and a ReLU activation, then a hidden layer with 64 units and a ReLU activation, and finally an output layer with a softmax activation as shown above. You can use a ReLU activation with the `nn.ReLU` module or `F.relu` function.\n",
    "\n",
    "It's good practice to name your layers by their type of network, for instance 'fc' to represent a fully-connected layer. As you code your solution, use `fc1`, `fc2`, and `fc3` as your layer names."
   ]
  },
  {
   "cell_type": "code",
   "execution_count": 82,
   "metadata": {
    "scrolled": true
   },
   "outputs": [],
   "source": [
    "class Network(nn.Module):\n",
    "    def __init__(self):\n",
    "        super().__init__()\n",
    "        # Inputs to first hidden layer linear transformation\n",
    "        self.fc1 = nn.Linear(784, 128)\n",
    "        # Inputs to second hidden layer linear transformation\n",
    "        self.fc2 = nn.Linear(128, 64)\n",
    "        # Output layer, 10 units - one for each digit\n",
    "        self.output = nn.Linear(64, 10)\n",
    "        \n",
    "    def forward(self, x):\n",
    "        # first FC layer with ReLu activation\n",
    "        x = F.relu(self.fc1(x))\n",
    "        # second FC layer with ReLu activation\n",
    "        x = F.relu(self.fc2(x))\n",
    "        # Output layer with softmax activation\n",
    "        x = F.softmax(self.output(x), dim=1)\n",
    "        \n",
    "        return x\n",
    "model = Network()"
   ]
  },
  {
   "cell_type": "markdown",
   "metadata": {},
   "source": [
    "### Initializing weights and biases\n",
    "\n",
    "The weights and such are automatically initialized for you, but it's possible to customize how they are initialized. The weights and biases are tensors attached to the layer you defined, you can get them with `model.fc1.weight` for instance."
   ]
  },
  {
   "cell_type": "code",
   "execution_count": 83,
   "metadata": {},
   "outputs": [
    {
     "name": "stdout",
     "output_type": "stream",
     "text": [
      "Parameter containing:\n",
      "tensor([[ 0.0249, -0.0209, -0.0192,  ..., -0.0337,  0.0181,  0.0345],\n",
      "        [ 0.0205,  0.0246,  0.0156,  ...,  0.0065, -0.0289,  0.0214],\n",
      "        [-0.0043,  0.0341,  0.0189,  ...,  0.0062, -0.0135,  0.0279],\n",
      "        ...,\n",
      "        [ 0.0023, -0.0146,  0.0061,  ...,  0.0257,  0.0242, -0.0189],\n",
      "        [ 0.0299, -0.0215, -0.0254,  ...,  0.0080,  0.0302,  0.0356],\n",
      "        [-0.0119, -0.0207,  0.0157,  ..., -0.0104, -0.0302,  0.0094]],\n",
      "       requires_grad=True)\n",
      "Parameter containing:\n",
      "tensor([ 0.0262,  0.0237, -0.0018, -0.0048,  0.0080,  0.0097, -0.0151, -0.0215,\n",
      "        -0.0030,  0.0267,  0.0152,  0.0129,  0.0005, -0.0121,  0.0310,  0.0228,\n",
      "         0.0332, -0.0331,  0.0034,  0.0267,  0.0126,  0.0066,  0.0179, -0.0006,\n",
      "        -0.0240, -0.0297, -0.0299, -0.0063, -0.0038, -0.0015,  0.0109, -0.0040,\n",
      "        -0.0327,  0.0235, -0.0004, -0.0249,  0.0182,  0.0266,  0.0208, -0.0186,\n",
      "         0.0067, -0.0202, -0.0113, -0.0036, -0.0252,  0.0302,  0.0313, -0.0216,\n",
      "        -0.0160, -0.0210, -0.0350, -0.0090, -0.0163, -0.0188,  0.0241,  0.0033,\n",
      "        -0.0058, -0.0329, -0.0001, -0.0110,  0.0316, -0.0091, -0.0254,  0.0084,\n",
      "         0.0132,  0.0307, -0.0302,  0.0038, -0.0354,  0.0224,  0.0287,  0.0215,\n",
      "         0.0209,  0.0152, -0.0241, -0.0208, -0.0008,  0.0315,  0.0122, -0.0137,\n",
      "        -0.0163, -0.0259,  0.0311, -0.0032,  0.0209, -0.0286, -0.0157,  0.0142,\n",
      "         0.0352, -0.0268, -0.0143,  0.0324,  0.0351, -0.0264, -0.0051,  0.0303,\n",
      "        -0.0028,  0.0147,  0.0217,  0.0308,  0.0081,  0.0184,  0.0157, -0.0186,\n",
      "        -0.0001,  0.0348,  0.0013, -0.0052,  0.0354, -0.0331,  0.0230, -0.0303,\n",
      "        -0.0240, -0.0340,  0.0165, -0.0041,  0.0299,  0.0144,  0.0331, -0.0057,\n",
      "         0.0333,  0.0268,  0.0183,  0.0309,  0.0164,  0.0302,  0.0284,  0.0276],\n",
      "       requires_grad=True)\n"
     ]
    }
   ],
   "source": [
    "print(model.fc1.weight)\n",
    "print(model.fc1.bias)"
   ]
  },
  {
   "cell_type": "markdown",
   "metadata": {},
   "source": [
    "For custom initialization, we want to modify these tensors in place. These are actually autograd *Variables*, so we need to get back the actual tensors with `model.fc1.weight.data`. Once we have the tensors, we can fill them with zeros (for biases) or random normal values."
   ]
  },
  {
   "cell_type": "code",
   "execution_count": 84,
   "metadata": {},
   "outputs": [
    {
     "data": {
      "text/plain": [
       "tensor([0., 0., 0., 0., 0., 0., 0., 0., 0., 0., 0., 0., 0., 0., 0., 0., 0., 0., 0., 0., 0., 0., 0., 0.,\n",
       "        0., 0., 0., 0., 0., 0., 0., 0., 0., 0., 0., 0., 0., 0., 0., 0., 0., 0., 0., 0., 0., 0., 0., 0.,\n",
       "        0., 0., 0., 0., 0., 0., 0., 0., 0., 0., 0., 0., 0., 0., 0., 0., 0., 0., 0., 0., 0., 0., 0., 0.,\n",
       "        0., 0., 0., 0., 0., 0., 0., 0., 0., 0., 0., 0., 0., 0., 0., 0., 0., 0., 0., 0., 0., 0., 0., 0.,\n",
       "        0., 0., 0., 0., 0., 0., 0., 0., 0., 0., 0., 0., 0., 0., 0., 0., 0., 0., 0., 0., 0., 0., 0., 0.,\n",
       "        0., 0., 0., 0., 0., 0., 0., 0.])"
      ]
     },
     "execution_count": 84,
     "metadata": {},
     "output_type": "execute_result"
    }
   ],
   "source": [
    "# Set biases to all zeros\n",
    "model.fc1.bias.data.fill_(0)"
   ]
  },
  {
   "cell_type": "code",
   "execution_count": 85,
   "metadata": {},
   "outputs": [
    {
     "data": {
      "text/plain": [
       "tensor([[ 0.0018, -0.0099, -0.0040,  ..., -0.0049,  0.0322, -0.0121],\n",
       "        [ 0.0020, -0.0020,  0.0057,  ..., -0.0051, -0.0052,  0.0090],\n",
       "        [ 0.0060,  0.0159, -0.0177,  ...,  0.0014, -0.0127,  0.0070],\n",
       "        ...,\n",
       "        [ 0.0034,  0.0099,  0.0092,  ..., -0.0046, -0.0118,  0.0029],\n",
       "        [-0.0052, -0.0024, -0.0066,  ..., -0.0126, -0.0170, -0.0021],\n",
       "        [-0.0089, -0.0037,  0.0015,  ..., -0.0020,  0.0040,  0.0056]])"
      ]
     },
     "execution_count": 85,
     "metadata": {},
     "output_type": "execute_result"
    }
   ],
   "source": [
    "# sample from random normal with standard dev = 0.01\n",
    "model.fc1.weight.data.normal_(std=0.01)"
   ]
  },
  {
   "cell_type": "markdown",
   "metadata": {},
   "source": [
    "### Forward pass\n",
    "\n",
    "Now that we have a network, let's see what happens when we pass in an image."
   ]
  },
  {
   "cell_type": "code",
   "execution_count": 93,
   "metadata": {},
   "outputs": [
    {
     "data": {
      "image/png": "[encoded data removed]",
      "text/plain": [
       "<Figure size 432x648 with 2 Axes>"
      ]
     },
     "metadata": {
      "image/png": {
       "height": 235,
       "width": 424
      },
      "needs_background": "light"
     },
     "output_type": "display_data"
    }
   ],
   "source": [
    "# Grab some data \n",
    "dataiter = iter(trainloader)\n",
    "images, labels = dataiter.next()\n",
    "\n",
    "# Resize images into a 1D vector, new shape is (batch size, color channels, image pixels) \n",
    "images.resize_(64, 1, 784)\n",
    "# or images.resize_(images.shape[0], 1, 784) to automatically get batch size\n",
    "\n",
    "# Forward pass through the network\n",
    "img_idx = 0\n",
    "ps = model.forward(images[img_idx,:])\n",
    "\n",
    "img = images[img_idx]\n",
    "helper.view_classify(img.view(1, 28, 28), ps)"
   ]
  },
  {
   "cell_type": "markdown",
   "metadata": {},
   "source": [
    "As you can see above, our network has basically no idea what this digit is. It's because we haven't trained it yet, all the weights are random!\n",
    "\n",
    "### Using `nn.Sequential`\n",
    "\n",
    "PyTorch provides a convenient way to build networks like this where a tensor is passed sequentially through operations, `nn.Sequential` ([documentation](https://pytorch.org/docs/master/nn.html#torch.nn.Sequential)). Using this to build the equivalent network:"
   ]
  },
  {
   "cell_type": "code",
   "execution_count": 87,
   "metadata": {},
   "outputs": [
    {
     "name": "stdout",
     "output_type": "stream",
     "text": [
      "Sequential(\n",
      "  (0): Linear(in_features=784, out_features=128, bias=True)\n",
      "  (1): ReLU()\n",
      "  (2): Linear(in_features=128, out_features=64, bias=True)\n",
      "  (3): ReLU()\n",
      "  (4): Linear(in_features=64, out_features=10, bias=True)\n",
      "  (5): Softmax(dim=1)\n",
      ")\n"
     ]
    },
    {
     "data": {
      "image/png": "[encoded data removed]",
      "text/plain": [
       "<Figure size 432x648 with 2 Axes>"
      ]
     },
     "metadata": {
      "image/png": {
       "height": 235,
       "width": 424
      },
      "needs_background": "light"
     },
     "output_type": "display_data"
    }
   ],
   "source": [
    "# Hyperparameters for our network\n",
    "input_size = 784\n",
    "hidden_sizes = [128, 64]\n",
    "output_size = 10\n",
    "\n",
    "# Build a feed-forward network\n",
    "model = nn.Sequential(nn.Linear(input_size, hidden_sizes[0]),\n",
    "                      nn.ReLU(),\n",
    "                      nn.Linear(hidden_sizes[0], hidden_sizes[1]),\n",
    "                      nn.ReLU(),\n",
    "                      nn.Linear(hidden_sizes[1], output_size),\n",
    "                      nn.Softmax(dim=1))\n",
    "print(model)\n",
    "\n",
    "# Forward pass through the network and display output\n",
    "images, labels = next(iter(trainloader))\n",
    "images.resize_(images.shape[0], 1, 784)\n",
    "ps = model.forward(images[0,:])\n",
    "helper.view_classify(images[0].view(1, 28, 28), ps)"
   ]
  },
  {
   "cell_type": "markdown",
   "metadata": {},
   "source": [
    "Here our model is the same as before: 784 input units, a hidden layer with 128 units, ReLU activation, 64 unit hidden layer, another ReLU, then the output layer with 10 units, and the softmax output.\n",
    "\n",
    "The operations are available by passing in the appropriate index. For example, if you want to get first Linear operation and look at the weights, you'd use `model[0]`."
   ]
  },
  {
   "cell_type": "code",
   "execution_count": 89,
   "metadata": {},
   "outputs": [
    {
     "name": "stdout",
     "output_type": "stream",
     "text": [
      "Linear(in_features=784, out_features=128, bias=True)\n"
     ]
    },
    {
     "data": {
      "text/plain": [
       "Parameter containing:\n",
       "tensor([[ 0.0099,  0.0029, -0.0177,  ...,  0.0318,  0.0099, -0.0287],\n",
       "        [ 0.0296,  0.0349,  0.0185,  ...,  0.0128, -0.0169, -0.0308],\n",
       "        [ 0.0318, -0.0272,  0.0143,  ..., -0.0078, -0.0310, -0.0110],\n",
       "        ...,\n",
       "        [ 0.0158, -0.0093,  0.0024,  ...,  0.0093,  0.0303, -0.0287],\n",
       "        [-0.0185, -0.0157, -0.0277,  ...,  0.0290, -0.0104,  0.0049],\n",
       "        [ 0.0242, -0.0033,  0.0277,  ...,  0.0148,  0.0153,  0.0051]],\n",
       "       requires_grad=True)"
      ]
     },
     "execution_count": 89,
     "metadata": {},
     "output_type": "execute_result"
    }
   ],
   "source": [
    "print(model[0])\n",
    "model[0].weight"
   ]
  },
  {
   "cell_type": "markdown",
   "metadata": {},
   "source": [
    "You can also pass in an `OrderedDict` to name the individual layers and operations, instead of using incremental integers. Note that dictionary keys must be unique, so _each operation must have a different name_."
   ]
  },
  {
   "cell_type": "code",
   "execution_count": 90,
   "metadata": {},
   "outputs": [
    {
     "data": {
      "text/plain": [
       "Sequential(\n",
       "  (fc1): Linear(in_features=784, out_features=128, bias=True)\n",
       "  (relu1): ReLU()\n",
       "  (fc2): Linear(in_features=128, out_features=64, bias=True)\n",
       "  (relu2): ReLU()\n",
       "  (output): Linear(in_features=64, out_features=10, bias=True)\n",
       "  (softmax): Softmax(dim=1)\n",
       ")"
      ]
     },
     "execution_count": 90,
     "metadata": {},
     "output_type": "execute_result"
    }
   ],
   "source": [
    "from collections import OrderedDict\n",
    "model = nn.Sequential(OrderedDict([\n",
    "                      ('fc1', nn.Linear(input_size, hidden_sizes[0])),\n",
    "                      ('relu1', nn.ReLU()),\n",
    "                      ('fc2', nn.Linear(hidden_sizes[0], hidden_sizes[1])),\n",
    "                      ('relu2', nn.ReLU()),\n",
    "                      ('output', nn.Linear(hidden_sizes[1], output_size)),\n",
    "                      ('softmax', nn.Softmax(dim=1))]))\n",
    "model"
   ]
  },
  {
   "cell_type": "markdown",
   "metadata": {},
   "source": [
    "Now you can access layers either by integer or the name"
   ]
  },
  {
   "cell_type": "code",
   "execution_count": 91,
   "metadata": {},
   "outputs": [
    {
     "name": "stdout",
     "output_type": "stream",
     "text": [
      "Linear(in_features=784, out_features=128, bias=True)\n",
      "Linear(in_features=784, out_features=128, bias=True)\n"
     ]
    }
   ],
   "source": [
    "print(model[0])\n",
    "print(model.fc1)"
   ]
  },
  {
   "cell_type": "markdown",
   "metadata": {},
   "source": [
    "In the next notebook, we'll see how we can train a neural network to accuractly predict the numbers appearing in the MNIST images."
   ]
  }
 ],
 "metadata": {
  "kernelspec": {
   "display_name": "Python 3 (ipykernel)",
   "language": "python",
   "name": "python3"
  },
  "language_info": {
   "codemirror_mode": {
    "name": "ipython",
    "version": 3
   },
   "file_extension": ".py",
   "mimetype": "text/x-python",
   "name": "python",
   "nbconvert_exporter": "python",
   "pygments_lexer": "ipython3",
   "version": "3.8.10"
  }
 },
 "nbformat": 4,
 "nbformat_minor": 2
}
