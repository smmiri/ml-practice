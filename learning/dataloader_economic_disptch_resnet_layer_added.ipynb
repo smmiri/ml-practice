{
 "cells": [
  {
   "cell_type": "markdown",
   "metadata": {
    "id": "dZQQnrCUrwZZ"
   },
   "source": [
    "# Import"
   ]
  },
  {
   "cell_type": "code",
   "execution_count": 84,
   "metadata": {
    "id": "erjckF3cr0G8"
   },
   "outputs": [],
   "source": [
    "import torch\n",
    "import torchvision\n",
    "from torchvision import transforms\n",
    "import torch.nn as nn\n",
    "import time\n",
    "import copy\n",
    "import torch.nn.functional as F\n",
    "import matplotlib.pyplot as plt\n",
    "import numpy as np\n",
    "import pandas as pd\n",
    "from sklearn.model_selection import train_test_split\n",
    "from torch.utils.data import TensorDataset, DataLoader\n",
    "import torchvision.models as models\n"
   ]
  },
  {
   "cell_type": "code",
   "execution_count": 3,
   "metadata": {
    "colab": {
     "base_uri": "https://localhost:8080/"
    },
    "id": "NSAIAxagS0sL",
    "outputId": "59043dd9-1e0a-4b75-8371-9fc44cb72014"
   },
   "outputs": [
    {
     "name": "stdout",
     "output_type": "stream",
     "text": [
      "Mounted at /content/drive\n"
     ]
    }
   ],
   "source": [
    "from google.colab import drive\n",
    "drive.mount('/content/drive')"
   ]
  },
  {
   "cell_type": "code",
   "execution_count": 4,
   "metadata": {
    "colab": {
     "base_uri": "https://localhost:8080/",
     "height": 35
    },
    "id": "BTqMO8KUwXvl",
    "outputId": "c2386715-94de-435f-de4e-aebafb5e5ca6"
   },
   "outputs": [
    {
     "data": {
      "application/vnd.google.colaboratory.intrinsic+json": {
       "type": "string"
      },
      "text/plain": [
       "'Tesla T4'"
      ]
     },
     "execution_count": 4,
     "metadata": {
      "tags": []
     },
     "output_type": "execute_result"
    }
   ],
   "source": [
    "torch.cuda.get_device_name()"
   ]
  },
  {
   "cell_type": "markdown",
   "metadata": {
    "id": "rHqV3unNRYrE"
   },
   "source": [
    "# Dataset"
   ]
  },
  {
   "cell_type": "code",
   "execution_count": 13,
   "metadata": {
    "id": "bk-cR6lpRe1Y"
   },
   "outputs": [],
   "source": [
    "path = r'/content/drive/MyDrive/economic_dispatch_samples'  # use your path\n",
    "data = []\n",
    "li_res = []\n",
    "for counter in range(1, 100):\n",
    "    df = pd.read_csv(path + '/dem_data_%d.csv' % counter, usecols=['dem'])\n",
    "    dem = df['dem'].to_numpy().flatten()\n",
    "    dem = dem.reshape((1, dem.shape[0]))\n",
    "    df = pd.read_csv(path + '/gen_data_%d.csv' % counter, usecols=['cos', 'cap'])\n",
    "    gen = (df.to_numpy().flatten())\n",
    "    gen = gen.reshape((1, gen.shape[0]))\n",
    "    input_vector = np.concatenate((dem, gen), axis=1)\n",
    "    if counter == 1:\n",
    "        li = input_vector\n",
    "    else:\n",
    "        li = np.append(li,input_vector, axis=0)\n",
    "        \n",
    "    \n",
    "    df = pd.read_csv(path + '/gen_result_%d.csv' % counter, usecols=['gen'])\n",
    "    output_vector = (df.to_numpy().flatten())\n",
    "    output_vector = output_vector.reshape((1,output_vector.shape[0]))\n",
    "    if counter == 1:\n",
    "        li_res = output_vector\n",
    "    else:\n",
    "        li_res = np.append(li_res,output_vector, axis=0)\n",
    "  \n",
    "    data.append(li)\n",
    "   \n",
    "\n",
    "data = li\n",
    "\n"
   ]
  },
  {
   "cell_type": "code",
   "execution_count": null,
   "metadata": {
    "id": "xe4XhWG3Y8IQ"
   },
   "outputs": [],
   "source": [
    "x_train = data\n",
    "y_train = li_res\n",
    "print(y_train.shape)\n",
    "print(x_train.shape)\n",
    "print(y_train)"
   ]
  },
  {
   "cell_type": "markdown",
   "metadata": {
    "id": "7T8RZD43MlKp"
   },
   "source": [
    "# Initialize"
   ]
  },
  {
   "cell_type": "code",
   "execution_count": 15,
   "metadata": {
    "colab": {
     "base_uri": "https://localhost:8080/"
    },
    "id": "JQpkHe5NMtAH",
    "outputId": "47b7fe37-5549-4c07-da66-ea46c8f1996b"
   },
   "outputs": [
    {
     "name": "stdout",
     "output_type": "stream",
     "text": [
      "cuda\n"
     ]
    }
   ],
   "source": [
    "batch_size = 10\n",
    "output= y_train.shape[1]\n",
    "num_features = x_train.shape[1]\n",
    "\n",
    "\n",
    "device = 'cuda' if torch.cuda.is_available() else 'cpu'\n",
    "print(device)"
   ]
  },
  {
   "cell_type": "code",
   "execution_count": 16,
   "metadata": {
    "id": "G6sUHlDxhGvM"
   },
   "outputs": [],
   "source": [
    "test_ratio = 0.08\n",
    "valid_ratio = 0.1\n",
    "\n",
    "\n",
    "\n",
    "x_train, x_test, y_train, y_test = train_test_split(x_train, y_train, test_size=test_ratio, random_state=1, shuffle=True)\n",
    "x_train, x_valid, y_train, y_valid = train_test_split(x_train, y_train, test_size=valid_ratio, random_state=1, shuffle=True)\n",
    "\n",
    "x_train = torch.tensor(x_train).float()\n",
    "x_test = torch.tensor(x_test).float()\n",
    "x_valid = torch.tensor(x_valid).float()\n",
    "\n",
    "y_train = torch.tensor(y_train).float()\n",
    "y_test = torch.tensor(y_test).float()\n",
    "y_valid = torch.tensor(y_valid).float()\n",
    "\n",
    "xmean = x_train.mean(dim=0)\n",
    "ymean = y_train.mean(dim=0)\n",
    "xstd = x_train.std(dim=0)\n",
    "ystd = y_train.std(dim=0)\n",
    "\n",
    "x_train = (x_train - xmean) / xstd\n",
    "x_test = (x_test - xmean) / xstd\n",
    "x_valid = (x_valid - xmean) / xstd\n",
    "\n",
    "y_train = (y_train - ymean) / ystd\n",
    "y_test = (y_test - ymean) / ystd\n",
    "y_valid = (y_valid - ymean) / ystd\n",
    "\n"
   ]
  },
  {
   "cell_type": "code",
   "execution_count": null,
   "metadata": {
    "id": "KTlFa5iFfvqM"
   },
   "outputs": [],
   "source": [
    "print(x_train.shape)\n",
    "print(x_valid.shape)\n",
    "print(x_test.shape)\n",
    "print(x_train[1])\n",
    "print(y_train)"
   ]
  },
  {
   "cell_type": "code",
   "execution_count": 18,
   "metadata": {
    "id": "WxGtKmCU3CFZ"
   },
   "outputs": [],
   "source": [
    "train_dataset = TensorDataset(x_train,y_train)\n",
    "valid_dataset = TensorDataset(x_valid,y_valid)\n",
    "test_dataset = TensorDataset(x_test,y_test)"
   ]
  },
  {
   "cell_type": "code",
   "execution_count": 19,
   "metadata": {
    "colab": {
     "base_uri": "https://localhost:8080/"
    },
    "id": "To6PbsMqTZrE",
    "outputId": "8ad8bf36-ffea-45b9-acb5-f1c6090259a7"
   },
   "outputs": [
    {
     "name": "stdout",
     "output_type": "stream",
     "text": [
      "<torch.utils.data.dataset.TensorDataset object at 0x7fec09e63d90>\n"
     ]
    }
   ],
   "source": [
    "train_loader = torch.utils.data.DataLoader(dataset=train_dataset, batch_size=batch_size, shuffle=True, drop_last = True)\n",
    "valid_loader = torch.utils.data.DataLoader(dataset=valid_dataset, batch_size=batch_size, shuffle=True, drop_last = True)\n",
    "print(train_dataset)"
   ]
  },
  {
   "cell_type": "code",
   "execution_count": 20,
   "metadata": {
    "id": "yFSwzswKb2oa"
   },
   "outputs": [],
   "source": [
    "one_batch_train  = next(iter(train_loader))\n",
    "# print(one_batch_train.shape)\n"
   ]
  },
  {
   "cell_type": "code",
   "execution_count": null,
   "metadata": {
    "id": "Eozb33cwb4HT"
   },
   "outputs": [],
   "source": [
    "for batch_number, (x_train, y_train) in enumerate(train_loader):\n",
    "  print(batch_number, x_train.shape)"
   ]
  },
  {
   "cell_type": "markdown",
   "metadata": {
    "id": "ge01v8k8GtTJ"
   },
   "source": [
    "# Model"
   ]
  },
  {
   "cell_type": "code",
   "execution_count": 85,
   "metadata": {
    "id": "mCH90PvYSJFK"
   },
   "outputs": [],
   "source": [
    "class res_block_1d(nn.Module):\n",
    "    def __init__(self, in_dim, out_dim, activation=nn.ReLU):\n",
    "        super(res_block_1d, self).__init__()\n",
    "        self.activation = activation()\n",
    "        self.block = nn.Sequential(\n",
    "            nn.BatchNorm1d(out_dim),\n",
    "            nn.Linear(in_dim, out_dim),\n",
    "            activation(),\n",
    "            nn.BatchNorm1d(out_dim),\n",
    "            nn.Linear(out_dim, out_dim),\n",
    "            activation(),\n",
    "        )\n",
    "\n",
    "    def forward(self, x):\n",
    "        out = self.activation(self.block(x) + x)\n",
    "\n",
    "        return out\n",
    "\n",
    "class resnet(nn.Module):\n",
    "    def __init__(self, output):\n",
    "        super(resnet, self).__init__()\n",
    "        self.net = nn.Sequential(\n",
    "            res_block_1d(num_features, num_features),\n",
    "            res_block_1d(num_features, num_features),\n",
    "            nn.Linear(num_features, output)\n",
    "        )\n",
    "\n",
    "    def forward(self, x):\n",
    "        out = self.net(x)\n",
    "\n",
    "        return out\n"
   ]
  },
  {
   "cell_type": "code",
   "execution_count": 86,
   "metadata": {
    "id": "xSaSAFqThauo"
   },
   "outputs": [],
   "source": [
    "model = resnet(output).to(device)\n",
    "print(model)"
   ]
  },
  {
   "cell_type": "markdown",
   "metadata": {
    "id": "e6gHOX8ApIg0"
   },
   "source": [
    "# Config"
   ]
  },
  {
   "cell_type": "code",
   "execution_count": 88,
   "metadata": {
    "id": "ZajhZer4o2iX"
   },
   "outputs": [],
   "source": [
    "\n",
    "# criterion = nn.CrossEntropyLoss()\n",
    "loss = nn.MSELoss()\n",
    "#optimizer = torch.optim.SGD(model.parameters(), lr=0.001, momentum=0.9)\n",
    "optimizer = torch.optim.Adam(model.parameters(), lr=0.001)"
   ]
  },
  {
   "cell_type": "markdown",
   "metadata": {
    "id": "H4IHHlsEpLQO"
   },
   "source": [
    "# Trainer"
   ]
  },
  {
   "cell_type": "code",
   "execution_count": 89,
   "metadata": {
    "id": "y6wMBIf3q-8P"
   },
   "outputs": [],
   "source": [
    "dataloaders_dict = {'train': train_loader, 'val': valid_loader}\n",
    "num_epochs = 1000"
   ]
  },
  {
   "cell_type": "code",
   "execution_count": 90,
   "metadata": {
    "id": "wSpKyUXmpM12"
   },
   "outputs": [],
   "source": [
    "def train_model(model, dataloaders, loss, optimizer, num_epochs=num_epochs):\n",
    "    since = time.time()\n",
    "\n",
    "    val_acc_history = []\n",
    "    train_acc_history = []\n",
    "\n",
    "    best_model_wts = copy.deepcopy(model.state_dict())\n",
    "    min_loss = float(\"inf\")\n",
    "\n",
    "    for epoch in range(num_epochs):\n",
    "        print('Epoch {}/{}'.format(epoch, num_epochs - 1))\n",
    "        print('-' * 10)\n",
    "\n",
    "        # Each epoch has a training and validation phase\n",
    "        for phase in ['train', 'val']:\n",
    "            if phase == 'train':\n",
    "                model.train()  # Set model to training mode\n",
    "            else:\n",
    "                model.eval()   # Set model to evaluate mode\n",
    "\n",
    "            running_loss = 0.0\n",
    "            running_corrects = 0\n",
    "\n",
    "            # Iterate over data.\n",
    "            for inputs, y_train in dataloaders[phase]:\n",
    "                inputs = inputs.to(device)\n",
    "                y_train = y_train.to(device)\n",
    "                \n",
    "                # zero the parameter gradients\n",
    "                optimizer.zero_grad()\n",
    "\n",
    "                # forward\n",
    "                # track history if only in train\n",
    "                with torch.set_grad_enabled(phase == 'train'):\n",
    "                    # Get model outputs and calculate loss\n",
    "                   \n",
    "                    outputs = model(inputs)\n",
    "                  \n",
    "                    loss_value = loss(outputs, y_train)\n",
    "                    #print('a=',loss_value)\n",
    "                    #_, preds = torch.max(outputs, 1)\n",
    "\n",
    "                    # backward + optimize only if in training phase\n",
    "                    if phase == 'train':\n",
    "                        loss_value.backward()\n",
    "                        optimizer.step()\n",
    "\n",
    "                # statistics\n",
    "                running_loss += loss_value.item() * inputs.size(0)\n",
    "                #running_corrects += torch.sum(preds == y_train.data)\n",
    "            epoch_loss = running_loss / len(dataloaders[phase].dataset)\n",
    "            #epoch_acc = running_corrects.double() / len(dataloaders[phase].dataset)\n",
    "\n",
    "            print('{} Loss: {:.4f} '.format(phase, epoch_loss))\n",
    "            \n",
    "            # deep copy the model\n",
    "            if phase == 'val' and epoch_loss < min_loss:\n",
    "                min_loss = epoch_loss\n",
    "                best_model_wts = copy.deepcopy(model.state_dict())\n",
    "            if phase == 'val':\n",
    "                val_acc_history.append(epoch_loss)\n",
    "            else:\n",
    "                train_acc_history.append(epoch_loss)\n",
    "\n",
    "        print()\n",
    "\n",
    "    time_elapsed = time.time() - since\n",
    "    print('Training complete in {:.0f}m {:.0f}s'.format(time_elapsed // 60, time_elapsed % 60))\n",
    "    # print('Best val Acc: {:4f}'.format(0))\n",
    "\n",
    "    # load best model weights\n",
    "    model.load_state_dict(best_model_wts)\n",
    "    return model, val_acc_history, train_acc_history"
   ]
  },
  {
   "cell_type": "code",
   "execution_count": null,
   "metadata": {
    "id": "rG-RO8UIrF1W"
   },
   "outputs": [],
   "source": [
    "model, val_hist, train_hist = train_model(model, dataloaders_dict, loss, optimizer, num_epochs=num_epochs)"
   ]
  },
  {
   "cell_type": "markdown",
   "metadata": {
    "id": "UAakPyFcrzsg"
   },
   "source": [
    "Plot"
   ]
  },
  {
   "cell_type": "code",
   "execution_count": null,
   "metadata": {
    "id": "Dog0fNcNr17v"
   },
   "outputs": [],
   "source": [
    "# # Plot the training curves of validation accuracy vs. number\n",
    "# #  of training epochs \n",
    "\n",
    "plt.title(\"Test Accuracy vs. Number of Training Epochs\")\n",
    "plt.xlabel(\"Training Epochs\")\n",
    "plt.ylabel(\"Validation Accuracy\")\n",
    "plt.plot(range(1,num_epochs+1),val_hist,label=\"Pretrained\")\n",
    "plt.xticks(np.arange(0, num_epochs+1, 100.0))\n",
    "plt.legend()\n",
    "plt.show()\n",
    "\n",
    "\n",
    "plt.title(\"Train Accuracy vs. Number of Training Epochs\")\n",
    "plt.xlabel(\"Training Epochs\")\n",
    "plt.ylabel(\"Training Accuracy\")\n",
    "plt.plot(range(1,num_epochs+1),train_hist,label=\"Pretrained\")\n",
    "plt.xticks(np.arange(0, num_epochs+1, 100.0))\n",
    "plt.legend()\n",
    "plt.show()\n",
    "\n",
    "\n",
    "\n"
   ]
  },
  {
   "cell_type": "code",
   "execution_count": 93,
   "metadata": {
    "colab": {
     "base_uri": "https://localhost:8080/",
     "height": 295
    },
    "id": "hZ4P5md7jIOH",
    "outputId": "09c1550f-6d29-4345-89bb-ab1dfdb11174"
   },
   "outputs": [
    {
     "data": {
      "image/png": "[encoded data removed]",
      "text/plain": [
       "<Figure size 720x288 with 1 Axes>"
      ]
     },
     "metadata": {
      "needs_background": "light",
      "tags": []
     },
     "output_type": "display_data"
    }
   ],
   "source": [
    "plt.figure(figsize=(10,4))\n",
    "plt.plot(range(1,num_epochs+1),val_hist, color = \"blue\",label = \"Validation\")\n",
    "plt.plot(range(1,num_epochs+1),train_hist, color = 'red',label = \"Training\")\n",
    "plt.title(\"Accuracy vs. Number of Training Epochs\")\n",
    "plt.xlabel(\"Training Epochs\")\n",
    "plt.ylabel('MSE')\n",
    "plt.xticks(np.arange(0, num_epochs+1, 100.0))\n",
    "plt.legend()\n",
    "plt.show()"
   ]
  }
 ],
 "metadata": {
  "accelerator": "GPU",
  "colab": {
   "collapsed_sections": [],
   "name": "dataloader_economic_disptch_resnet layer added.ipynb",
   "provenance": [],
   "toc_visible": true
  },
  "kernelspec": {
   "display_name": "Python 3 (ipykernel)",
   "language": "python",
   "name": "python3"
  },
  "language_info": {
   "codemirror_mode": {
    "name": "ipython",
    "version": 3
   },
   "file_extension": ".py",
   "mimetype": "text/x-python",
   "name": "python",
   "nbconvert_exporter": "python",
   "pygments_lexer": "ipython3",
   "version": "3.7.4"
  }
 },
 "nbformat": 4,
 "nbformat_minor": 1
}
